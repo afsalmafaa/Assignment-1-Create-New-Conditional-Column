{
 "cells": [
  {
   "cell_type": "code",
   "execution_count": 4,
   "id": "dd1780cb",
   "metadata": {},
   "outputs": [
    {
     "name": "stdout",
     "output_type": "stream",
     "text": [
      "        ship_mode  sales  profit  surcharge  total_cost\n",
      "0        Same Day    100      60       0.20        48.0\n",
      "1     First Class    200      80       0.10       132.0\n",
      "2  Standard Class    150      70       0.05        84.0\n",
      "3    Second Class    120      50       0.00        70.0\n"
     ]
    }
   ],
   "source": [
    "import pandas as pd\n",
    "data = {\n",
    "    'ship_mode': [\"Same Day\", \"First Class\", \"Standard Class\", \"Second Class\"],\n",
    "    'sales': [100, 200, 150, 120],\n",
    "    'profit': [60, 80, 70, 50]\n",
    "}\n",
    "\n",
    "df = pd.DataFrame(data)\n",
    "\n",
    "def calculate_surcharge(ship_mode):\n",
    "    if ship_mode == \"Same Day\":\n",
    "        surcharge = 0.2\n",
    "    elif ship_mode == \"First Class\":\n",
    "        surcharge = 0.1\n",
    "    elif ship_mode == \"Standard Class\":\n",
    "        surcharge = 0.05\n",
    "    else:\n",
    "        surcharge = 0\n",
    "    return surcharge\n",
    "\n",
    "df['surcharge'] = df['ship_mode'].apply(calculate_surcharge)\n",
    "df['total_cost'] = (df['sales'] - df['profit']) * (1 + df['surcharge'])\n",
    "print(df)"
   ]
  }
 ],
 "metadata": {
  "kernelspec": {
   "display_name": "Python 3 (ipykernel)",
   "language": "python",
   "name": "python3"
  },
  "language_info": {
   "codemirror_mode": {
    "name": "ipython",
    "version": 3
   },
   "file_extension": ".py",
   "mimetype": "text/x-python",
   "name": "python",
   "nbconvert_exporter": "python",
   "pygments_lexer": "ipython3",
   "version": "3.10.9"
  }
 },
 "nbformat": 4,
 "nbformat_minor": 5
}
